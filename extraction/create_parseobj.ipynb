{
 "cells": [
  {
   "cell_type": "code",
   "execution_count": 1,
   "metadata": {},
   "outputs": [],
   "source": [
    "from os import listdir\n",
    "from os.path import isfile, join\n",
    "import codecs\n",
    "from file_types import ParseObject\n",
    "import pickle as pkl\n",
    "import time\n",
    "\n",
    "def open_unicode_file(name):\n",
    "    f =  codecs.open(name, encoding='utf-8', mode='r').read()\n",
    "    return f"
   ]
  },
  {
   "cell_type": "code",
   "execution_count": 2,
   "metadata": {},
   "outputs": [],
   "source": [
    "from extraction import extract_topics, extract_species, extract_regions, extract_antagonists,extract_agonists,extract_year,extract_methods,extract_receptor\n",
    "\n",
    "def create_objs():\n",
    "    count = 0\n",
    "    mypath = \"../data/subfiles\"\n",
    "    onlyfiles = [f for f in listdir(mypath) if isfile(join(mypath, f))]\n",
    "    timers = [0]*9\n",
    "    for fname in onlyfiles:\n",
    "        count += 1\n",
    "        if count % 10 == 0:\n",
    "            print(str(count) + \" \" + str(timers))\n",
    "            timers = [0]*9\n",
    "        ld = open_unicode_file(mypath + \"/\" + fname)\n",
    "        \n",
    "        parse = ParseObject()\n",
    "        t0 = time.time()\n",
    "        parse.topics = extract_topics(ld)\n",
    "        t1 = time.time()\n",
    "        timers[0] += t1 - t0\n",
    "        parse.species = extract_species(ld)\n",
    "        t2 = time.time()\n",
    "        timers[1] += t2 - t1\n",
    "        parse.regions = extract_regions(ld)\n",
    "        t3 = time.time()\n",
    "        timers[2] += t3 - t2\n",
    "        parse.antagonists = extract_antagonists(ld)\n",
    "        t4 = time.time()\n",
    "        timers[3] += t4 - t3\n",
    "        parse.agonists = extract_agonists(ld)\n",
    "        t5 = time.time()\n",
    "        timers[4] += t5 - t4\n",
    "        parse.year = extract_year(ld)\n",
    "        t6 = time.time()\n",
    "        timers[5] += t6 - t5\n",
    "        parse.methods = extract_methods(ld)\n",
    "        t7 = time.time()\n",
    "        timers[6] += t7 - t6\n",
    "        parse.receptors = extract_receptor(ld)\n",
    "        t8 = time.time()\n",
    "        timers[7] += t8 - t7\n",
    "        pkl.dump(parse, open(\"../data/pkls/\" + fname.replace(\".txt\", \".p\"), \"wb\" ))\n",
    "        t9 = time.time()\n",
    "        timers[8] += t9 - t8\n"
   ]
  },
  {
   "cell_type": "code",
   "execution_count": 3,
   "metadata": {},
   "outputs": [],
   "source": [
    "\n",
    "def print_csv():\n",
    "    count = 0\n",
    "    mypath = \"../data/pkls\"\n",
    "#     csv = open(\"../results.csv\", \"w+\")\n",
    "#     csv.write(\"Year,Receptor,Species,Methods,Agonist,Antagonist,Brain_Regions,Topic_Spec\\n\")\n",
    "    \n",
    "    \n",
    "    onlyfiles = [f for f in listdir(mypath) if isfile(join(mypath, f))]\n",
    "\n",
    "    for fname in onlyfiles:\n",
    "        count+=1\n",
    "        if count % 100 == 0:\n",
    "            print(count)\n",
    "        obj = pkl.load(open(mypath + \"/\" + fname, 'rb'))\n",
    "        \n",
    "        obj.species = remove_commas(obj.species)\n",
    "        obj.agonists = remove_commas(obj.agonists)\n",
    "        obj.antagonists = remove_commas(obj.antagonists)\n",
    "        obj.regions = remove_commas(obj.regions)\n",
    "        obj.topics = remove_commas(obj.topics)\n",
    "        \n",
    "        csv.write(obj.year + \",\")\n",
    "        csv.write(';'.join(obj.receptors) + \",\")\n",
    "        csv.write(';'.join(obj.species) + \",\")\n",
    "        csv.write(';'.join(obj.methods) + \",\")\n",
    "        csv.write(';'.join(obj.agonists) + \",\")\n",
    "        csv.write(';'.join(obj.antagonists) + \",\")\n",
    "        csv.write(';'.join(obj.regions) + \",\")\n",
    "        csv.write(';'.join(obj.topics) + \",\")\n",
    "        csv.write(\"\\n\")"
   ]
  },
  {
   "cell_type": "code",
   "execution_count": null,
   "metadata": {},
   "outputs": [],
   "source": []
  },
  {
   "cell_type": "markdown",
   "metadata": {},
   "source": []
  },
  {
   "cell_type": "code",
   "execution_count": 4,
   "metadata": {},
   "outputs": [],
   "source": [
    "def remove_commas(st):\n",
    "    new_st = set()\n",
    "    for element in st:\n",
    "        new_str = ''\n",
    "        for char in element:\n",
    "            if char == ',':\n",
    "                char =  ''\n",
    "            new_str += char\n",
    "        new_st.add(new_str)\n",
    "    return new_st\n",
    "    \n",
    "        \n",
    "        \n",
    "        "
   ]
  },
  {
   "cell_type": "code",
   "execution_count": null,
   "metadata": {},
   "outputs": [],
   "source": []
  },
  {
   "cell_type": "code",
   "execution_count": 5,
   "metadata": {},
   "outputs": [],
   "source": [
    "def create_parse(ld):\n",
    "    parse = ParseObject()\n",
    "    parse.topics = remove_commas(extract_topics(ld))\n",
    "    \n",
    "    parse.species = remove_commas(extract_species(ld))\n",
    "    print(parse.species)\n",
    "\n",
    "    parse.regions = remove_commas(extract_regions(ld))\n",
    "    print(parse.regions)\n",
    "    parse.antagonists = remove_commas(extract_antagonists(ld))\n",
    "\n",
    "    parse.agonists = remove_commas(extract_agonists(ld))\n",
    "\n",
    "    parse.year = remove_commas(extract_year(ld))\n",
    "\n",
    "    parse.methods = remove_commas(extract_methods(ld))\n",
    "\n",
    "    parse.receptors = remove_commas(extract_receptor(ld))\n"
   ]
  },
  {
   "cell_type": "code",
   "execution_count": 8,
   "metadata": {},
   "outputs": [
    {
     "data": {
      "text/plain": [
       "set()"
      ]
     },
     "execution_count": 8,
     "metadata": {},
     "output_type": "execute_result"
    }
   ],
   "source": []
  },
  {
   "cell_type": "code",
   "execution_count": null,
   "metadata": {},
   "outputs": [],
   "source": []
  },
  {
   "cell_type": "code",
   "execution_count": null,
   "metadata": {},
   "outputs": [],
   "source": []
  }
 ],
 "metadata": {
  "kernelspec": {
   "display_name": "Python 2",
   "language": "python",
   "name": "python2"
  },
  "language_info": {
   "codemirror_mode": {
    "name": "ipython",
    "version": 2
   },
   "file_extension": ".py",
   "mimetype": "text/x-python",
   "name": "python",
   "nbconvert_exporter": "python",
   "pygments_lexer": "ipython2",
   "version": "2.7.15"
  }
 },
 "nbformat": 4,
 "nbformat_minor": 2
}
