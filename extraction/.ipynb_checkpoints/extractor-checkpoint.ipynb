{
 "cells": [
  {
   "cell_type": "code",
   "execution_count": 22,
   "metadata": {},
   "outputs": [],
   "source": [
    "import PyPDF2\n",
    "from nltk.tokenize import word_tokenize\n",
    "from nltk.corpus import stopwords\n",
    "def parse(filename):\n",
    "    pdfFileObj = open(filename,'rb')\n",
    "    pdfReader = PyPDF2.PdfFileReader(pdfFileObj)\n",
    "    num_pages = pdfReader.numPages\n",
    "    print(num_pages)\n",
    "    text = \"\"\n",
    "    count = 0\n",
    "    info = pdfReader.getDocumentInfo()\n",
    "    while count < num_pages:\n",
    "        pageObj = pdfReader.getPage(count)\n",
    "        print(pageObj)\n",
    "        break\n",
    "        count +=1\n",
    "        text += pageObj.extractText()\n"
   ]
  },
  {
   "cell_type": "code",
   "execution_count": 23,
   "metadata": {},
   "outputs": [
    {
     "name": "stdout",
     "output_type": "stream",
     "text": [
      "10\n",
      "{'/Creator': u'Microsoft Word', '/CreationDate': u\"D:20180327150013+05'00'\", '/Author': u'Mac Pro', '/Producer': u'Acrobat Distiller 8.1.0 (Windows)', '/ModDate': u\"D:20180327152656+05'00'\", '/Title': u'Contents CMC 25-9'}\n",
      "{'/Parent': IndirectObject(195, 0), '/Contents': IndirectObject(533, 0), '/TrimBox': [0, 0, 612, 792], '/Resources': {'/Font': {'/T1_6': IndirectObject(122, 0), '/T1_7': IndirectObject(87, 0), '/T1_4': IndirectObject(130, 0), '/T1_5': IndirectObject(126, 0), '/T1_2': IndirectObject(138, 0), '/T1_3': IndirectObject(134, 0), '/T1_0': IndirectObject(148, 0), '/T1_1': IndirectObject(143, 0), '/TT0': IndirectObject(208, 0), '/T1_8': IndirectObject(88, 0), '/T1_9': IndirectObject(89, 0), '/T1_10': IndirectObject(86, 0), '/T1_11': IndirectObject(203, 0), '/T1_12': IndirectObject(210, 0)}, '/ColorSpace': {'/CS2': IndirectObject(201, 0), '/CS1': IndirectObject(90, 0), '/CS0': IndirectObject(152, 0)}, '/Shading': {'/Sh10': IndirectObject(191, 0), '/Sh11': IndirectObject(190, 0), '/Sh12': IndirectObject(189, 0), '/Sh13': IndirectObject(188, 0), '/Sh14': IndirectObject(185, 0), '/Sh15': IndirectObject(180, 0), '/Sh16': IndirectObject(175, 0), '/Sh17': IndirectObject(172, 0), '/Sh18': IndirectObject(169, 0), '/Sh2': IndirectObject(176, 0), '/Sh3': IndirectObject(173, 0), '/Sh0': IndirectObject(187, 0), '/Sh1': IndirectObject(183, 0), '/Sh6': IndirectObject(164, 0), '/Sh7': IndirectObject(162, 0), '/Sh4': IndirectObject(170, 0), '/Sh5': IndirectObject(166, 0), '/Sh8': IndirectObject(158, 0), '/Sh9': IndirectObject(154, 0)}, '/XObject': {'/Im0': IndirectObject(192, 0)}, '/ProcSet': ['/PDF', '/Text', '/ImageC'], '/ExtGState': {'/GS2': IndirectObject(531, 0), '/GS1': IndirectObject(530, 0), '/GS0': IndirectObject(121, 0)}}, '/CropBox': [0, 0, 612, 792], '/MediaBox': [0, 0, 612, 792], '/ArtBox': [0, 0, 612, 792], '/BleedBox': [0, 0, 612, 792], '/Type': '/Page'}\n"
     ]
    }
   ],
   "source": [
    "name = \"../data/CMC-25-1036.pdf\"\n",
    "parse(name)"
   ]
  },
  {
   "cell_type": "code",
   "execution_count": null,
   "metadata": {},
   "outputs": [],
   "source": []
  }
 ],
 "metadata": {
  "kernelspec": {
   "display_name": "Python 2",
   "language": "python",
   "name": "python2"
  },
  "language_info": {
   "codemirror_mode": {
    "name": "ipython",
    "version": 2
   },
   "file_extension": ".py",
   "mimetype": "text/x-python",
   "name": "python",
   "nbconvert_exporter": "python",
   "pygments_lexer": "ipython2",
   "version": "2.7.15"
  }
 },
 "nbformat": 4,
 "nbformat_minor": 2
}
